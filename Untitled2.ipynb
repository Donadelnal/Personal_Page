{
  "nbformat": 4,
  "nbformat_minor": 0,
  "metadata": {
    "colab": {
      "provenance": [],
      "authorship_tag": "ABX9TyPi+3pcu5I0VHp/H+DY+YZg",
      "include_colab_link": true
    },
    "kernelspec": {
      "name": "python3",
      "display_name": "Python 3"
    },
    "language_info": {
      "name": "python"
    },
    "accelerator": "GPU",
    "gpuClass": "standard"
  },
  "cells": [
    {
      "cell_type": "markdown",
      "metadata": {
        "id": "view-in-github",
        "colab_type": "text"
      },
      "source": [
        "<a href=\"https://colab.research.google.com/github/Donadelnal/Personal_page/blob/main/Untitled2.ipynb\" target=\"_parent\"><img src=\"https://colab.research.google.com/assets/colab-badge.svg\" alt=\"Open In Colab\"/></a>"
      ]
    },
    {
      "cell_type": "markdown",
      "source": [
        "**Zadanie 1**\n",
        "\n",
        "Sprawdź możliwości wykorzystania pakietu tensorflow do budowy wielowarstwowej\n",
        "sieci neuronowej. W tym celu:\n",
        "\n",
        "A. Zaimportuj potrzebne biblioteki"
      ],
      "metadata": {
        "id": "EuJikMnutcFW"
      }
    },
    {
      "cell_type": "code",
      "execution_count": 2,
      "metadata": {
        "id": "gdFnLzWEtTdv"
      },
      "outputs": [],
      "source": [
        "import tensorflow as tf\n",
        "from tensorflow import keras\n",
        "from matplotlib import pyplot as plt\n",
        "import numpy as np\n",
        "import sklearn.metrics"
      ]
    },
    {
      "cell_type": "markdown",
      "source": [
        "B. Załaduj dane ze zbioru MNIST oraz wykorzystaj metodę normalize, aby\n",
        "przeprowadzić normalizację danych"
      ],
      "metadata": {
        "id": "YQ47bp4Otkae"
      }
    },
    {
      "cell_type": "code",
      "source": [
        "(x_train , y_train) , (x_test , y_test) = keras.datasets.mnist.load_data()\n",
        "x_train_normalized = tf.keras.utils.normalize(x_train , axis =- 1 , order = 2 )\n",
        "x_test_normalized = tf.keras.utils.normalize(x_test , axis =- 1 , order = 2 )"
      ],
      "metadata": {
        "colab": {
          "base_uri": "https://localhost:8080/"
        },
        "id": "B12JvhQqtp_Y",
        "outputId": "8298629d-82f8-43e3-b4b8-e8edc36a4036"
      },
      "execution_count": 3,
      "outputs": [
        {
          "output_type": "stream",
          "name": "stdout",
          "text": [
            "Downloading data from https://storage.googleapis.com/tensorflow/tf-keras-datasets/mnist.npz\n",
            "11490434/11490434 [==============================] - 2s 0us/step\n"
          ]
        }
      ]
    },
    {
      "cell_type": "markdown",
      "source": [
        "C. Wykorzystując funkcję plot_random_pics zobacz jak wyglądają dane w zbiorze\n",
        "MNIST"
      ],
      "metadata": {
        "id": "ZN9c-Ozatssr"
      }
    },
    {
      "cell_type": "code",
      "source": [
        "def plot_random_pics (data , nmb_of_pics = 10 ):\n",
        "    fig , axes1 = plt.subplots(nmb_of_pics , nmb_of_pics , figsize =( 8 , 8 ))\n",
        "\n",
        "    for j in range (nmb_of_pics):\n",
        "        for k in range (nmb_of_pics):\n",
        "            i = np.random.choice( range ( len (data)))\n",
        "            axes1[j][k].set_axis_off()\n",
        "            axes1[j][k].imshow(data[i] , cmap = \"binary\" )"
      ],
      "metadata": {
        "id": "oG5MzsEjt4p7"
      },
      "execution_count": 4,
      "outputs": []
    },
    {
      "cell_type": "markdown",
      "source": [
        "D. Zdefiniuj model sieci z jedną warstwą ukrytą z 40-stoma neuronami oraz funkcją\n",
        "aktywacji ReLU. W warstwie wyjściowej wykorzystaj funkcję softmax.\n",
        "Wykorzystaj Sequential API."
      ],
      "metadata": {
        "id": "c_z4jT1WuTCe"
      }
    },
    {
      "cell_type": "code",
      "source": [
        "model = keras.models.Sequential()\n",
        "model.add(keras.layers.Flatten( input_shape =[ 28 , 28 ]))\n",
        "model.add(keras.layers.Dense( 40 , activation = \"relu\" ))\n",
        "model.add(keras.layers.Dense( 10 , activation = \"softmax\" ))"
      ],
      "metadata": {
        "id": "PWYzePW6uTtU"
      },
      "execution_count": 5,
      "outputs": []
    },
    {
      "cell_type": "markdown",
      "source": [
        "E. Skonfiguruj model wykorzystując metodę model.compile() tak, aby\n",
        "wykorzystywał:\n",
        "a. funkcję straty będącą wariantem entropii krzyżowej (ang. cross entropy) -\n",
        "SparseCategoricalCrossentropy\n",
        "b. Optymalizator wykorzystujący metodę stochastycznego spadku gradientu"
      ],
      "metadata": {
        "id": "A0aJnFQUu9n7"
      }
    },
    {
      "cell_type": "code",
      "source": [
        "model.compile( loss = \"SparseCategoricalCrossentropy\" ,\n",
        "optimizer = \"sgd\" ,\n",
        "metrics = [ \"accuracy\" ])"
      ],
      "metadata": {
        "id": "PCgT3Rz5vESu"
      },
      "execution_count": 6,
      "outputs": []
    },
    {
      "cell_type": "markdown",
      "source": [
        "F. Przeprowadź trening sieci neuronowej w 3 epokach, wykorzystując 20% danych\n",
        "jako zbiór walidacyjny."
      ],
      "metadata": {
        "id": "1K1pHxxkvHEt"
      }
    },
    {
      "cell_type": "code",
      "source": [
        "history = model.fit(x_train_normalized , y_train ,\n",
        "    epochs = 3 , validation_split = 0.2 , verbose = 2 )"
      ],
      "metadata": {
        "colab": {
          "base_uri": "https://localhost:8080/"
        },
        "id": "mFhuSOC5vKzN",
        "outputId": "be4c90d9-dc96-41d7-f252-a500c3c937b0"
      },
      "execution_count": 7,
      "outputs": [
        {
          "output_type": "stream",
          "name": "stdout",
          "text": [
            "Epoch 1/3\n",
            "1500/1500 - 5s - loss: 1.3282 - accuracy: 0.6585 - val_loss: 0.6996 - val_accuracy: 0.8376 - 5s/epoch - 3ms/step\n",
            "Epoch 2/3\n",
            "1500/1500 - 3s - loss: 0.5874 - accuracy: 0.8484 - val_loss: 0.4555 - val_accuracy: 0.8831 - 3s/epoch - 2ms/step\n",
            "Epoch 3/3\n",
            "1500/1500 - 3s - loss: 0.4485 - accuracy: 0.8760 - val_loss: 0.3811 - val_accuracy: 0.8982 - 3s/epoch - 2ms/step\n"
          ]
        }
      ]
    },
    {
      "cell_type": "markdown",
      "source": [
        "G. Przeprowadź ewaluację na zbiorze testowym. Przedstaw macierz pomyłek dla\n",
        "poszczególnych klas."
      ],
      "metadata": {
        "id": "fH3gcW-yvUzh"
      }
    },
    {
      "cell_type": "code",
      "source": [
        "evaluation = model.evaluate(x_test_normalized, y_test, verbose = 2)\n",
        "y_test_pred = model.predict(x_test_normalized)\n",
        "\n",
        "matrix = sklearn.metrics.confusion_matrix(y_test, y_test_pred.argmax(axis=1))\n",
        "matrix "
      ],
      "metadata": {
        "colab": {
          "base_uri": "https://localhost:8080/"
        },
        "id": "HT037FusvXRN",
        "outputId": "19bb9b21-891e-435a-a859-2d7668080c8b"
      },
      "execution_count": 8,
      "outputs": [
        {
          "output_type": "stream",
          "name": "stdout",
          "text": [
            "313/313 - 1s - loss: 0.3944 - accuracy: 0.8903 - 592ms/epoch - 2ms/step\n",
            "313/313 [==============================] - 0s 1ms/step\n"
          ]
        },
        {
          "output_type": "execute_result",
          "data": {
            "text/plain": [
              "array([[ 951,    0,    5,    1,    1,    0,   12,    1,    9,    0],\n",
              "       [   0, 1102,    9,    6,    1,    2,    3,    0,   12,    0],\n",
              "       [  21,   15,  868,   13,   12,    4,   26,   23,   42,    8],\n",
              "       [   3,    0,   29,  897,    2,   37,    4,   11,   19,    8],\n",
              "       [   1,    4,    6,    3,  867,   10,   15,    5,   19,   52],\n",
              "       [  15,   11,    2,   44,   24,  726,   27,    6,   30,    7],\n",
              "       [   9,    3,   12,    1,   12,   16,  899,    0,    6,    0],\n",
              "       [   1,   20,   27,    3,   13,    2,    0,  915,    3,   44],\n",
              "       [  14,    4,   21,   17,   35,   14,   17,    5,  824,   23],\n",
              "       [   7,    6,    8,   12,   68,   10,    1,   33,   10,  854]])"
            ]
          },
          "metadata": {},
          "execution_count": 8
        }
      ]
    },
    {
      "cell_type": "markdown",
      "source": [
        "H. Przygotuj kilka własnoręcznie napisanych cyfr w przekształconych do formatu 28 x 28 pikseli. Spróbuj wykorzystać zbudowany model do predykcji. Co\n",
        "zauważyłaś?"
      ],
      "metadata": {
        "id": "i6OdO2J3vdeL"
      }
    },
    {
      "cell_type": "code",
      "source": [
        "import cv2\n",
        "img=cv2.imread( '2.bmp' , cv2.IMREAD_GRAYSCALE)\n",
        "img = 255 - img\n",
        "plt.imshow(img , cmap = \"binary\" )\n",
        "img_normalized = tf.keras.utils.normalize(img , axis =- 1 , order = 2 )\n",
        "np.expand_dims(img , axis = 0 )\n",
        "model.predict(np.expand_dims(img , axis = 0 )).argmax()"
      ],
      "metadata": {
        "colab": {
          "base_uri": "https://localhost:8080/",
          "height": 301
        },
        "id": "hxdXFSF8voSl",
        "outputId": "119b7a47-2df1-4fab-f674-59613dff5de0"
      },
      "execution_count": 10,
      "outputs": [
        {
          "output_type": "stream",
          "name": "stdout",
          "text": [
            "1/1 [==============================] - 0s 41ms/step\n"
          ]
        },
        {
          "output_type": "execute_result",
          "data": {
            "text/plain": [
              "2"
            ]
          },
          "metadata": {},
          "execution_count": 10
        },
        {
          "output_type": "display_data",
          "data": {
            "text/plain": [
              "<Figure size 432x288 with 1 Axes>"
            ],
            "image/png": "[encoded data removed]"
          },
          "metadata": {
            "needs_background": "light"
          }
        }
      ]
    },
    {
      "cell_type": "markdown",
      "source": [
        "**Zadanie 2**"
      ],
      "metadata": {
        "id": "fwP_7DNQy1S2"
      }
    },
    {
      "cell_type": "markdown",
      "source": [
        "Dla wywołania metody model.fit() z Zadania 1 odpowiedz na poniższe pytania\n",
        "(posiłkując się wiedzą zdobytą we wprowadzeniu oraz dokumentacją na metody\n",
        "https://keras.io/api/models/model_training_apis/#fit-method ):\n",
        "\n",
        "A. Ile wynosi i co oznacza parametr batch_size?"
      ],
      "metadata": {
        "id": "ADkxVWEaywo3"
      }
    },
    {
      "cell_type": "markdown",
      "source": [
        "Batch_size oznacza liczbę zestawów obrazków wykorzystaną przy analizie gradientu, domyslnie wynosi 32."
      ],
      "metadata": {
        "id": "lpfEDTm6yxEi"
      }
    },
    {
      "cell_type": "markdown",
      "source": [
        "B. Co oznacza oraz skąd wzięła się taka wartość liczby “1500” podawana na\n",
        "początku każdej linii logów w procesie uczenia?"
      ],
      "metadata": {
        "id": "owhtpNnKy6hh"
      }
    },
    {
      "cell_type": "markdown",
      "source": [
        "\n",
        "Liczba 1500 określa ilość obrazków w jednym batchu. Jeżeli zbiór uczący zawiera 48000 obrazków (80% z 60000), to po podzieleniu na 32 batche wychodzi nam 1500 obrazków na 1 batch."
      ],
      "metadata": {
        "id": "F7__1_F8y9eP"
      }
    },
    {
      "cell_type": "markdown",
      "source": [
        "**Zadanie 3**\n",
        "\n",
        "A) Przeprowadź eksperyment sprawdzający czy w rzeczywistości architektury\n",
        "głębokie sieci powinny być preferowane w stosunku do płytkich. Eksperyment\n",
        "przeprowadź dla liczby warstw od 1 do 9. Skorzystaj ze zbioru MNIST.\n",
        "Procedurę walidacji przeprowadź na próbie testowej dla tego zbioru. Dla każdej\n",
        "architektury (= liczby warstw ukrytych) zapewnij, że w ramach warstw ukrytych\n",
        "będzie się znajdowało łącznie 600 neuronów (z dokładnością do zaokrągleń).\n",
        "\n",
        "Pamiętaj o tym, iż z uwagi na losowy sposób inicjalizowania wag, sieci o tej\n",
        "samej architekturze mogą się istotnie różnić w zakresie ich skuteczności\n",
        "(mierzonej np. poprzez accuracy). Aby zniwelować ten błąd wynikający z\n",
        "losowości należałoby przeprowadzić znaczną ilość eksperymentów dla tej samej\n",
        "architektury a wynik uśrednić. Przyjmijmy na potrzeby tego zadania, że uśrednienie na podstawie 5 powtórzonych procedur trenowania dla tej samej\n",
        "architektury jest wystarczające."
      ],
      "metadata": {
        "id": "_xUpwf1jzBcy"
      }
    },
    {
      "cell_type": "code",
      "source": [
        "nmb_of_tests_per_architecture = 5\n",
        "nmb_of_neurons_at_disposal = 600\n",
        "results_for_nmb_of_hidden_layers = {}\n",
        "for current_nmb_of_hidden_layers in range ( 1 , 10 ):\n",
        "    current_val_accuracy = 0\n",
        "\n",
        "    for j in range (nmb_of_tests_per_architecture):\n",
        "        keras.backend.clear_session()\n",
        "        del model\n",
        "\n",
        "        model = keras.models.Sequential()\n",
        "\n",
        "        model.add(keras.layers.Flatten( input_shape =[ 28 , 28 ]))\n",
        "\n",
        "        for hidden_layer in range ( 1 , current_nmb_of_hidden_layers):\n",
        "            model.add(keras.layers.Dense( int (nmb_of_neurons_at_disposal/current_nmb_of_hidden_layers) , activation = \"relu\" ))\n",
        "        model.add(keras.layers.Dense( 10 , activation = \"softmax\" ))\n",
        "\n",
        "        model.compile( loss = \"sparse_categorical_crossentropy\" ,\n",
        "                optimizer = \"sgd\" ,\n",
        "                metrics = [ \"accuracy\" ])\n",
        "\n",
        "        history = model.fit(x_train_normalized , y_train , epochs = 4 , validation_data =(x_test_normalized , y_test) , verbose = 2 )\n",
        "\n",
        "        current_val_accuracy += max (history.history[ 'val_accuracy' ])\n",
        "    \n",
        "    current_val_accuracy = current_val_accuracy / nmb_of_tests_per_architecture\n",
        "\n",
        "    results_for_nmb_of_hidden_layers[current_nmb_of_hidden_layers] = current_val_accuracy"
      ],
      "metadata": {
        "id": "Sy1c2Yx3zLUg"
      },
      "execution_count": null,
      "outputs": []
    },
    {
      "cell_type": "markdown",
      "source": [
        "B) Narysuj wykres liniowy zależności liczby warstw ukrytych w stosunku do uśrednionego Accuracy dla danej liczby warstw. Zinterpretuj wykres."
      ],
      "metadata": {
        "id": "2VjTsflo0LxH"
      }
    },
    {
      "cell_type": "code",
      "source": [
        "lists = sorted(results_for_nmb_of_hidden_layers.items()) # sorted by key, return a list of tuples\n",
        "\n",
        "x, y = zip(*lists) \n",
        "\n",
        "plt.plot(x,y)\n",
        "plt.xlabel(\"Liczba warstw ukrytych\")\n",
        "plt.ylabel(\"Accuracy na zbiorze testowym\")"
      ],
      "metadata": {
        "id": "u7o_uxKu19jA"
      },
      "execution_count": null,
      "outputs": []
    },
    {
      "cell_type": "markdown",
      "source": [
        "**Zadanie 4**\n",
        "\n",
        "Narysuj, wykorzystując funkcje z biblioteki Keras następujące funkcje aktywacji: sigmoid,\n",
        "tangens hiperboliczny, SoftSign, ReLU, SoftPlus, SeLU, ELU. Posłuż się poniższym kodem, aby\n",
        "narysować dwa wykresy w zależności od wartości funkcji aktywacji.\n",
        "W komentarzu opisz wpływ wyboru poszczególnych grup funkcji aktywacji na proces uczenia\n",
        "metodą gradientową.*italicized text*"
      ],
      "metadata": {
        "id": "VyV1S4-a0VDc"
      }
    },
    {
      "cell_type": "code",
      "source": [
        "x = np.linspace(-10 , 10 , 200 )\n",
        "a = tf.constant(x , dtype = tf.float32)\n",
        "\n",
        "y_sigmoid = tf.keras.activations.sigmoid(a).numpy()\n",
        "y_tanh= tf.keras.activations.tanh(a).numpy()\n",
        "y_softsign= tf.keras.activations.softsign(a).numpy()\n",
        "y_relu = tf.keras.activations.relu(a).numpy()\n",
        "y_softplus = tf.keras.activations.softplus(a).numpy()\n",
        "y_selu = tf.keras.activations.selu(a).numpy()\n",
        "y_elu = tf.keras.activations.elu(a).numpy()\n",
        "\n",
        "y_leaky_relu = tf.keras.layers.LeakyReLU(alpha = 0.5)(x).numpy()\n",
        "\n",
        "fig = plt.figure( figsize =( 10 , 10 ))\n",
        "ax = fig.add_subplot( 2 , 1 , 1 )\n",
        "\n",
        "ax.spines[ 'left' ].set_position( 'zero' )\n",
        "ax.spines[ 'bottom' ].set_position( 'zero' )\n",
        "ax.spines[ 'top' ].set_visible( False )\n",
        "ax.spines[ 'right' ].set_visible( False )\n",
        "ax.grid()\n",
        "\n",
        "plt.plot(x , y_tanh , label = 'tanh' )\n",
        "plt.plot(x , y_sigmoid , label = 'sigmoid' )\n",
        "plt.plot(x , y_softsign , label = 'softsign' )\n",
        "ax.legend( loc = \"upper left\" )\n",
        "\n",
        "ax = fig.add_subplot( 2 , 1 , 2 )\n",
        "ax.spines[ 'left' ].set_position( 'zero' )\n",
        "ax.spines[ 'bottom' ].set_position( 'zero' )\n",
        "ax.spines[ 'top' ].set_visible( False )\n",
        "ax.spines[ 'right' ].set_visible( False )\n",
        "\n",
        "plt.plot(x , y_relu , label = 'ReLU' )\n",
        "plt.plot(x , y_softplus , label = 'SoftPlus' )\n",
        "plt.plot(x , y_selu , label = 'SeLU' )\n",
        "plt.plot(x , y_elu , label = 'ELU' )\n",
        "plt.plot(x, y_leaky_relu, label='LeakyReLu')\n",
        "ax.legend( loc = \"upper left\" )\n",
        "ax.grid()\n",
        "plt.show()"
      ],
      "metadata": {
        "colab": {
          "base_uri": "https://localhost:8080/",
          "height": 574
        },
        "id": "4jYg26SU0ajg",
        "outputId": "cba29867-9ddd-4c3b-f1fc-315afd0e58a2"
      },
      "execution_count": 11,
      "outputs": [
        {
          "output_type": "display_data",
          "data": {
            "text/plain": [
              "<Figure size 720x720 with 2 Axes>"
            ],
            "image/png": "[encoded data removed]"
          },
          "metadata": {
            "needs_background": "light"
          }
        }
      ]
    },
    {
      "cell_type": "markdown",
      "source": [
        "Funkcje aktywacji tanh, sigmoid i softsign - gwałtownie osiągają nasycenie i staja się wypłaszczone - oznacza to, że dla dużych i małych wartości funkcji backpropagation wygasa zbyt wcześnie. \n",
        "\n",
        "Funkcje w drugiej grupie juz nie osiągają wysycenia tak szybko."
      ],
      "metadata": {
        "id": "VG9nseQN7nL5"
      }
    },
    {
      "cell_type": "markdown",
      "source": [
        "**Zadanie 5**\n",
        "\n",
        "Zbuduj prostą sieć trójwarstwową z 40 neuronami w warstwie ukrytej. Wykorzystaj dwie funkcje\n",
        "aktywacji: ReLU oraz Sigmoid. Nie normalizuj danych przed procesem uczenia. Przeprowadź\n",
        "dla każdej z nich proces uczenia w standardowych ustawieniach przez 5 epok. Co\n",
        "zaobserwowałeś? Zaobserwuj i skomentuj zdolności uczenia się obu sieci."
      ],
      "metadata": {
        "id": "h4Tv91mq1E2h"
      }
    },
    {
      "cell_type": "code",
      "source": [
        "keras.backend.clear_session()\n",
        "del model\n",
        "model = keras.models.Sequential()\n",
        "model.add(keras.layers.Flatten(input_shape=[28,28]))\n",
        "model.add(keras.layers.Dense(40,activation = \"relu\"))\n",
        "model.add(keras.layers.Dense(10, activation=\"softmax\"))\n",
        "\n",
        "\n",
        "model.compile(loss = \"sparse_categorical_crossentropy\",\n",
        "             optimizer = \"sgd\", \n",
        "             metrics = [\"accuracy\"])\n",
        "\n",
        "history = model.fit(x_train, y_train, epochs=5, validation_split=0.1, verbose=2)"
      ],
      "metadata": {
        "colab": {
          "base_uri": "https://localhost:8080/"
        },
        "id": "G3X6K7ka1GGx",
        "outputId": "3e2b9e7e-0940-4909-dbf2-f8a59d3142c1"
      },
      "execution_count": 12,
      "outputs": [
        {
          "output_type": "stream",
          "name": "stdout",
          "text": [
            "Epoch 1/5\n",
            "1688/1688 - 4s - loss: 15.1870 - accuracy: 0.1190 - val_loss: 2.2170 - val_accuracy: 0.1455 - 4s/epoch - 2ms/step\n",
            "Epoch 2/5\n",
            "1688/1688 - 4s - loss: 2.2237 - accuracy: 0.1523 - val_loss: 2.1387 - val_accuracy: 0.1742 - 4s/epoch - 2ms/step\n",
            "Epoch 3/5\n",
            "1688/1688 - 3s - loss: 2.2759 - accuracy: 0.1303 - val_loss: 2.3019 - val_accuracy: 0.1057 - 3s/epoch - 2ms/step\n",
            "Epoch 4/5\n",
            "1688/1688 - 3s - loss: 2.3010 - accuracy: 0.1134 - val_loss: 2.2991 - val_accuracy: 0.1062 - 3s/epoch - 2ms/step\n",
            "Epoch 5/5\n",
            "1688/1688 - 3s - loss: 2.2954 - accuracy: 0.1176 - val_loss: 2.3020 - val_accuracy: 0.1050 - 3s/epoch - 2ms/step\n"
          ]
        }
      ]
    },
    {
      "cell_type": "code",
      "source": [
        "keras.backend.clear_session()\n",
        "del model\n",
        "model = keras.models.Sequential()\n",
        "model.add(keras.layers.Flatten(input_shape=[28,28]))\n",
        "model.add(keras.layers.Dense(40, activation=\"sigmoid\"))\n",
        "model.add(keras.layers.Dense(10, activation=\"softmax\"))\n",
        "\n",
        "\n",
        "model.compile(loss = \"sparse_categorical_crossentropy\",\n",
        "             optimizer = \"sgd\", \n",
        "             metrics = [\"accuracy\"])\n",
        "\n",
        "history = model.fit(x_train, y_train, epochs=5, validation_split=0.1, verbose=2)"
      ],
      "metadata": {
        "colab": {
          "base_uri": "https://localhost:8080/"
        },
        "id": "oFiDnTjS8rXY",
        "outputId": "1b992c12-24aa-4fce-e1e0-91fe5ddc4c91"
      },
      "execution_count": 19,
      "outputs": [
        {
          "output_type": "stream",
          "name": "stdout",
          "text": [
            "Epoch 1/5\n",
            "1688/1688 - 6s - loss: 1.0241 - accuracy: 0.7461 - val_loss: 0.5672 - val_accuracy: 0.8800 - 6s/epoch - 3ms/step\n",
            "Epoch 2/5\n",
            "1688/1688 - 3s - loss: 0.5493 - accuracy: 0.8626 - val_loss: 0.4073 - val_accuracy: 0.8993 - 3s/epoch - 2ms/step\n",
            "Epoch 3/5\n",
            "1688/1688 - 3s - loss: 0.4627 - accuracy: 0.8755 - val_loss: 0.3781 - val_accuracy: 0.9038 - 3s/epoch - 2ms/step\n",
            "Epoch 4/5\n",
            "1688/1688 - 3s - loss: 0.4178 - accuracy: 0.8863 - val_loss: 0.3471 - val_accuracy: 0.9082 - 3s/epoch - 2ms/step\n",
            "Epoch 5/5\n",
            "1688/1688 - 3s - loss: 0.3924 - accuracy: 0.8915 - val_loss: 0.3365 - val_accuracy: 0.9067 - 3s/epoch - 2ms/step\n"
          ]
        }
      ]
    },
    {
      "cell_type": "markdown",
      "source": [
        "Funkcja sigmoid przybiera wartości znormalizowane (od 0 do 1), w przypadku funkcji relu te wartości sa od 0 do nieskończoności."
      ],
      "metadata": {
        "id": "4nkOh3rA8z6M"
      }
    },
    {
      "cell_type": "markdown",
      "source": [
        "**Zadanie 6**\n",
        "\n",
        "Dla prostej sieci z poprzedniego zadania dodaj warstwę w postaci keras.layers.BatchNormalization()\n",
        "przed warstwą funkcji aktywacji. W tym celu musisz dodać funkcję aktywacji jako kolejną\n",
        "warstwę (wykorzystując https://keras.io/api/layers/activation_layers/relu/ ). Jak wpływa dodanie\n",
        "Batch Normalization na szybkość i skuteczność trenowania?"
      ],
      "metadata": {
        "id": "pm2sdYER1GVX"
      }
    },
    {
      "cell_type": "code",
      "source": [
        "keras.backend.clear_session()\n",
        "# del model\n",
        "model = keras.models.Sequential()\n",
        "model.add(keras.layers.Flatten(input_shape=[28,28]))\n",
        "model.add(keras.layers.BatchNormalization())\n",
        "model.add(keras.layers.Dense(40, activation=\"relu\"))\n",
        "model.add(keras.layers.Dense(10, activation=\"softmax\"))\n",
        "\n",
        "\n",
        "model.compile(loss = \"sparse_categorical_crossentropy\",\n",
        "             optimizer = \"sgd\", \n",
        "             metrics = [\"accuracy\"])\n",
        "\n",
        "history = model.fit(x_train, y_train, epochs=5, validation_split=0.1, verbose=2)"
      ],
      "metadata": {
        "colab": {
          "base_uri": "https://localhost:8080/"
        },
        "id": "E10haYbw1Jlz",
        "outputId": "383a17e9-dccf-4c33-dc42-c710f58cd41c"
      },
      "execution_count": 20,
      "outputs": [
        {
          "output_type": "stream",
          "name": "stdout",
          "text": [
            "Epoch 1/5\n",
            "1688/1688 - 4s - loss: 0.5136 - accuracy: 0.8502 - val_loss: 0.3291 - val_accuracy: 0.9297 - 4s/epoch - 2ms/step\n",
            "Epoch 2/5\n",
            "1688/1688 - 4s - loss: 0.2780 - accuracy: 0.9163 - val_loss: 0.3106 - val_accuracy: 0.9450 - 4s/epoch - 3ms/step\n",
            "Epoch 3/5\n",
            "1688/1688 - 4s - loss: 0.2342 - accuracy: 0.9312 - val_loss: 0.3334 - val_accuracy: 0.9528 - 4s/epoch - 3ms/step\n",
            "Epoch 4/5\n",
            "1688/1688 - 3s - loss: 0.2053 - accuracy: 0.9381 - val_loss: 0.4653 - val_accuracy: 0.9543 - 3s/epoch - 2ms/step\n",
            "Epoch 5/5\n",
            "1688/1688 - 3s - loss: 0.1864 - accuracy: 0.9431 - val_loss: 0.3440 - val_accuracy: 0.9587 - 3s/epoch - 2ms/step\n"
          ]
        }
      ]
    },
    {
      "cell_type": "code",
      "source": [
        "keras.backend.clear_session()\n",
        "# del model\n",
        "model = keras.models.Sequential()\n",
        "model.add(keras.layers.Flatten(input_shape=[28,28]))\n",
        "model.add(keras.layers.BatchNormalization())\n",
        "model.add(keras.layers.Dense(40, activation=\"sigmoid\"))\n",
        "model.add(keras.layers.Dense(10, activation=\"softmax\"))\n",
        "\n",
        "\n",
        "model.compile(loss = \"sparse_categorical_crossentropy\",\n",
        "             optimizer = \"sgd\", \n",
        "             metrics = [\"accuracy\"])\n",
        "\n",
        "history = model.fit(x_train, y_train, epochs=5, validation_split=0.1, verbose=2)"
      ],
      "metadata": {
        "colab": {
          "base_uri": "https://localhost:8080/"
        },
        "id": "A4v4uvaZ_4n3",
        "outputId": "e88843b6-85b5-42d0-f7b3-4567e0f1f311"
      },
      "execution_count": 21,
      "outputs": [
        {
          "output_type": "stream",
          "name": "stdout",
          "text": [
            "Epoch 1/5\n",
            "1688/1688 - 5s - loss: 1.1162 - accuracy: 0.7358 - val_loss: 0.5906 - val_accuracy: 0.8825 - 5s/epoch - 3ms/step\n",
            "Epoch 2/5\n",
            "1688/1688 - 3s - loss: 0.5665 - accuracy: 0.8633 - val_loss: 0.3965 - val_accuracy: 0.9075 - 3s/epoch - 2ms/step\n",
            "Epoch 3/5\n",
            "1688/1688 - 3s - loss: 0.4466 - accuracy: 0.8824 - val_loss: 0.3273 - val_accuracy: 0.9165 - 3s/epoch - 2ms/step\n",
            "Epoch 4/5\n",
            "1688/1688 - 3s - loss: 0.3915 - accuracy: 0.8933 - val_loss: 0.2888 - val_accuracy: 0.9260 - 3s/epoch - 2ms/step\n",
            "Epoch 5/5\n",
            "1688/1688 - 3s - loss: 0.3615 - accuracy: 0.8997 - val_loss: 0.2666 - val_accuracy: 0.9305 - 3s/epoch - 2ms/step\n"
          ]
        }
      ]
    },
    {
      "cell_type": "markdown",
      "source": [
        "Po użyciu BatchNormalization dla funkcji relu znacznie zwiększyło Accuracy (z około 0.14 do około 0.9), a w przypadku funkcji sigmoid Accuracy nie zmieniło sie znacząco."
      ],
      "metadata": {
        "id": "v02KqwWd_k1D"
      }
    },
    {
      "cell_type": "markdown",
      "source": [
        "**Zadanie 7**\n",
        "\n",
        "UWAGA!!! - do uruchomienia tylko na COLAB\n",
        "Dla zbioru MNIST skonstruuj sieć o następującej po sobie warstwach:\n",
        "\n",
        "● konwolucyjna z 64 filtrami, rozmiar okna - 7 pikseli, f. aktywacji ReLU"
      ],
      "metadata": {
        "id": "I7RcLw3t1J4a"
      }
    },
    {
      "cell_type": "code",
      "source": [
        "keras.layers.Conv2D( filters = 64 , kernel_size = 7 , input_shape =[ 28 , 28 , 1 ] ,\n",
        "activation = 'relu' , padding = \"SAME\" )"
      ],
      "metadata": {
        "id": "SHj6pxSr1OI0"
      },
      "execution_count": null,
      "outputs": []
    },
    {
      "cell_type": "markdown",
      "source": [
        "aby dostosować dane wejściowe przeprowadź następującą modyfikację danych\n",
        "wejściowych:"
      ],
      "metadata": {
        "id": "YGDU6j151bKB"
      }
    },
    {
      "cell_type": "code",
      "source": [
        "x_train_normalized_conv = x_train_normalized[... , np.newaxis]"
      ],
      "metadata": {
        "id": "MOy10EHy1dgr"
      },
      "execution_count": null,
      "outputs": []
    },
    {
      "cell_type": "markdown",
      "source": [
        "● MaxPooling2D o rozmiarze 2"
      ],
      "metadata": {
        "id": "j96GbM2j1gYb"
      }
    },
    {
      "cell_type": "code",
      "source": [
        "keras.layers.MaxPooling2D( pool_size = 2 )"
      ],
      "metadata": {
        "id": "2N8y6Ilv1kxa"
      },
      "execution_count": null,
      "outputs": []
    },
    {
      "cell_type": "markdown",
      "source": [
        "● konwolucyjna z 128 filtrami, rozmiar okna - 7, f. aktywacji ReLU\n",
        "\n",
        "● MaxPooling2D o rozmiarze 2\n",
        "\n",
        "● Dense o rozmiarze 128 z f. aktywacji ReLU\n",
        "\n",
        "Jakie wyniki uzyskałaś? Wykorzystaj wiedzę o “tunowaniu” sieci zdobytą w poprzednich\n",
        "zadaniach, aby spróbować poprzez wprowadzone zmiany albo a) uzyskać lepsze wyniki dla\n",
        "zbioru walidacyjnego albo b) uzyskać podobne wyniki ale skrócić czas procesu trenowania.\n",
        "\n",
        "Sprawdź czy własne cyfry z Zadania 1 zostają poprawnie zaklasyfikowane. W szczególności\n",
        "zwróć uwagę na przypadki błędnie klasyfikowane w poprzednim eksperymencie."
      ],
      "metadata": {
        "id": "0f5nfUUs1n_v"
      }
    },
    {
      "cell_type": "code",
      "source": [
        "keras.backend.clear_session()\n",
        "\n",
        "model = keras.models.Sequential([\n",
        "    keras.layers.Conv2D(filters=64, kernel_size=7, activation=\"relu\", input_shape=[28, 28, 1], padding=\"SAME\"),\n",
        "    keras.layers.MaxPooling2D(pool_size=2),\n",
        "    keras.layers.BatchNormalization(),    # warstwa normalizacyjna\n",
        "    keras.layers.Conv2D(filters=128, kernel_size=7, activation=\"relu\", padding=\"SAME\"),\n",
        "    keras.layers.MaxPooling2D(pool_size=2),\n",
        "    keras.layers.Flatten(),  # warstwa flatten\n",
        "    keras.layers.BatchNormalization(),    # warstwa normalizacyjna\n",
        "    keras.layers.Dense(units=128, activation='relu'),\n",
        "    keras.layers.Dense(units=10, activation='softmax'),\n",
        "])\n",
        "\n",
        "model.compile(loss = \"sparse_categorical_crossentropy\",\n",
        "             optimizer = \"sgd\", \n",
        "             metrics = [\"accuracy\"])\n",
        "\n",
        "x_train_normalized_conv = x_train_normalized[..., np.newaxis]\n",
        "\n",
        "history = model.fit(x_train_normalized_conv, y_train, epochs=3, validation_split=0.1, verbose=2)"
      ],
      "metadata": {
        "colab": {
          "base_uri": "https://localhost:8080/"
        },
        "id": "urNRexMP2Ump",
        "outputId": "d9c0bfd2-694a-460f-c147-e4a1e05c950a"
      },
      "execution_count": 13,
      "outputs": [
        {
          "output_type": "stream",
          "name": "stdout",
          "text": [
            "Epoch 1/3\n",
            "1688/1688 - 15s - loss: 0.1119 - accuracy: 0.9655 - val_loss: 0.0528 - val_accuracy: 0.9842 - 15s/epoch - 9ms/step\n",
            "Epoch 2/3\n",
            "1688/1688 - 9s - loss: 0.0400 - accuracy: 0.9873 - val_loss: 0.0328 - val_accuracy: 0.9910 - 9s/epoch - 5ms/step\n",
            "Epoch 3/3\n",
            "1688/1688 - 9s - loss: 0.0247 - accuracy: 0.9922 - val_loss: 0.0354 - val_accuracy: 0.9907 - 9s/epoch - 5ms/step\n"
          ]
        }
      ]
    },
    {
      "cell_type": "markdown",
      "source": [
        "Otrzymano bardzo wysokie wartości Accuracy - 97-99%, i to w bardzo krótkim czasie - ok. 30 sek."
      ],
      "metadata": {
        "id": "zFkhCAcNAp6t"
      }
    },
    {
      "cell_type": "code",
      "source": [
        "import cv2\n",
        "\n",
        "img=cv2.imread('2.bmp', cv2.IMREAD_GRAYSCALE)\n",
        "\n",
        "img = 255 - img\n",
        "\n",
        "\n",
        "\n",
        "img_normalized = tf.keras.utils.normalize(img, axis=-1, order=2)\n",
        "\n",
        "np.expand_dims(img, axis=0)\n",
        "plt.imshow(img, cmap=\"binary\")\n",
        "\n",
        "img_normalized = img_normalized[..., np.newaxis]\n",
        "img_normalized.shape\n",
        "model.predict(np.expand_dims(img_normalized, axis=0)).argmax()"
      ],
      "metadata": {
        "colab": {
          "base_uri": "https://localhost:8080/",
          "height": 301
        },
        "id": "i5tHEZHCDwyE",
        "outputId": "2549a354-5470-4eb6-9428-99e35f704153"
      },
      "execution_count": 18,
      "outputs": [
        {
          "output_type": "stream",
          "name": "stdout",
          "text": [
            "1/1 [==============================] - 0s 15ms/step\n"
          ]
        },
        {
          "output_type": "execute_result",
          "data": {
            "text/plain": [
              "2"
            ]
          },
          "metadata": {},
          "execution_count": 18
        },
        {
          "output_type": "display_data",
          "data": {
            "text/plain": [
              "<Figure size 432x288 with 1 Axes>"
            ],
            "image/png": "[encoded data removed]"
          },
          "metadata": {
            "needs_background": "light"
          }
        }
      ]
    }
  ]
}